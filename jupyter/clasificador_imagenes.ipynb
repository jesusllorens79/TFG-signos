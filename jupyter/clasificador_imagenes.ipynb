{
 "cells": [
  {
   "cell_type": "code",
   "execution_count": 10,
   "id": "f200c475",
   "metadata": {},
   "outputs": [],
   "source": [
    "import os\n",
    "import pandas as pd\n",
    "import numpy as np\n",
    "import matplotlib.pyplot as plt\n",
    "\n",
    "import tensorflow as tf\n",
    "from tensorflow import keras\n",
    "from tensorflow.keras import layers\n",
    "from tensorflow.keras.models import Sequential\n",
    "from keras.layers import Conv2D, Dense, Dropout, Flatten\n",
    "from tensorflow.keras.preprocessing.image import ImageDataGenerator"
   ]
  },
  {
   "cell_type": "code",
   "execution_count": 11,
   "id": "63d7fe10",
   "metadata": {
    "scrolled": true
   },
   "outputs": [],
   "source": [
    "train_path = \"./Data/train\" \n",
    "test_path = \"./Data/test\""
   ]
  },
  {
   "cell_type": "code",
   "execution_count": 15,
   "id": "d9b583b4",
   "metadata": {},
   "outputs": [
    {
     "name": "stdout",
     "output_type": "stream",
     "text": [
      "Found 0 images belonging to 0 classes.\n",
      "Found 0 images belonging to 0 classes.\n"
     ]
    }
   ],
   "source": [
    "train_datagen = ImageDataGenerator(rescale=1./255, # Rescale the pixel values between 0 and 1\n",
    "                                   shear_range=0.2, # Apply random shear transformation\n",
    "                                   zoom_range=0.2, # Apply random zoom transformation\n",
    "                                   horizontal_flip=True) # Flip the image horizontally\n",
    "\n",
    "train_generator = train_datagen.flow_from_directory(\n",
    "        r'C:\\Users\\jesus\\Desktop\\tfg_signos\\Data\\A',\n",
    "        target_size=(224, 224), # Resize the images to 224x224 pixels\n",
    "        batch_size=32,)\n",
    "        #class_mode='categorical') # Set the class mode to categorical\n",
    "\n",
    "test_datagen = ImageDataGenerator(rescale=1./255,\n",
    "                                  shear_range=0.2,\n",
    "                                  zoom_range=0.2,\n",
    "                                  horizontal_flip=True) \n",
    "\n",
    "test_generator = test_datagen.flow_from_directory(\n",
    "        r'C:\\Users\\jesus\\Desktop\\tfg_signos\\Data\\D',\n",
    "        target_size=(224, 224), # Resize the images to 224x224 pixels\n",
    "        batch_size=32,)"
   ]
  },
  {
   "cell_type": "code",
   "execution_count": 26,
   "id": "63644203",
   "metadata": {},
   "outputs": [],
   "source": [
    "(x_train, y_train) = r'C:\\Users\\jesus\\Desktop\\tfg_signos\\datos\\test', r'C:\\Users\\jesus\\Desktop\\tfg_signos\\Data\\D'\n",
    "(x_test, y_test) =  r'C:\\Users\\jesus\\Desktop\\tfg_signos\\datos\\train', r'C:\\Users\\jesus\\Desktop\\tfg_signos\\Data\\D'"
   ]
  },
  {
   "cell_type": "code",
   "execution_count": 65,
   "id": "979111f0",
   "metadata": {
    "scrolled": true
   },
   "outputs": [
    {
     "name": "stdout",
     "output_type": "stream",
     "text": [
      "(32, 224, 224, 3)\n",
      "(32, 224, 224, 3)\n"
     ]
    }
   ],
   "source": [
    "print(x_train.shape)\n",
    "print(x_test.shape)"
   ]
  },
  {
   "cell_type": "code",
   "execution_count": 66,
   "id": "3a6d0734",
   "metadata": {
    "scrolled": false
   },
   "outputs": [
    {
     "name": "stdout",
     "output_type": "stream",
     "text": [
      "(32, 21)\n",
      "(32, 21)\n"
     ]
    }
   ],
   "source": [
    "print(y_train.shape)\n",
    "print(y_test.shape)"
   ]
  },
  {
   "cell_type": "code",
   "execution_count": 8,
   "id": "bbab7dc6",
   "metadata": {
    "scrolled": true
   },
   "outputs": [],
   "source": [
    "x_train = x_train.reshape(32, -1)\n",
    "x_test = x_test.reshape(32, -1)"
   ]
  },
  {
   "cell_type": "code",
   "execution_count": 9,
   "id": "3ca766fe",
   "metadata": {},
   "outputs": [],
   "source": [
    "#x_train = x_train.reshape(32, 50176)\n",
    "#x_test = x_test.reshape(32, 50176)"
   ]
  },
  {
   "cell_type": "code",
   "execution_count": 67,
   "id": "ff74d58e",
   "metadata": {
    "scrolled": true
   },
   "outputs": [
    {
     "name": "stdout",
     "output_type": "stream",
     "text": [
      "(32, 224, 224, 3)\n",
      "(32, 224, 224, 3)\n"
     ]
    }
   ],
   "source": [
    "print(x_train.shape)\n",
    "print(x_test.shape)"
   ]
  },
  {
   "cell_type": "code",
   "execution_count": 11,
   "id": "90d2b9fa",
   "metadata": {},
   "outputs": [],
   "source": [
    "target_dims = (224, 224, 3)"
   ]
  },
  {
   "cell_type": "code",
   "execution_count": 3,
   "id": "ca8ab210",
   "metadata": {},
   "outputs": [],
   "source": [
    "from keras import layers\n",
    "from keras import Sequential\n",
    "from tensorflow.keras.layers import MaxPooling2D\n",
    "\n",
    "model = Sequential([\n",
    "    Conv2D(32, (3, 3), activation='relu', input_shape=(224, 224, 3)),\n",
    "    MaxPooling2D((2, 2)),\n",
    "    Conv2D(64, (3, 3), activation='relu'),\n",
    "    MaxPooling2D((2, 2)),\n",
    "    Conv2D(128, (3, 3), activation='relu'),\n",
    "    MaxPooling2D((2, 2)),\n",
    "    Conv2D(128, (3, 3), activation='relu'),\n",
    "    MaxPooling2D((2, 2)),\n",
    "    Flatten(),\n",
    "    Dense(512, activation='relu'),\n",
    "    Dense(21, activation='softmax')\n",
    "])\n",
    "\n",
    "model.compile(optimizer='adam',\n",
    "              loss='categorical_crossentropy',\n",
    "              metrics=['accuracy'])"
   ]
  },
  {
   "cell_type": "code",
   "execution_count": 4,
   "id": "2669bd1e",
   "metadata": {},
   "outputs": [
    {
     "name": "stdout",
     "output_type": "stream",
     "text": [
      "Model: \"sequential\"\n",
      "_________________________________________________________________\n",
      " Layer (type)                Output Shape              Param #   \n",
      "=================================================================\n",
      " conv2d (Conv2D)             (None, 222, 222, 32)      896       \n",
      "                                                                 \n",
      " max_pooling2d (MaxPooling2D  (None, 111, 111, 32)     0         \n",
      " )                                                               \n",
      "                                                                 \n",
      " conv2d_1 (Conv2D)           (None, 109, 109, 64)      18496     \n",
      "                                                                 \n",
      " max_pooling2d_1 (MaxPooling  (None, 54, 54, 64)       0         \n",
      " 2D)                                                             \n",
      "                                                                 \n",
      " conv2d_2 (Conv2D)           (None, 52, 52, 128)       73856     \n",
      "                                                                 \n",
      " max_pooling2d_2 (MaxPooling  (None, 26, 26, 128)      0         \n",
      " 2D)                                                             \n",
      "                                                                 \n",
      " conv2d_3 (Conv2D)           (None, 24, 24, 128)       147584    \n",
      "                                                                 \n",
      " max_pooling2d_3 (MaxPooling  (None, 12, 12, 128)      0         \n",
      " 2D)                                                             \n",
      "                                                                 \n",
      " flatten (Flatten)           (None, 18432)             0         \n",
      "                                                                 \n",
      " dense (Dense)               (None, 512)               9437696   \n",
      "                                                                 \n",
      " dense_1 (Dense)             (None, 21)                10773     \n",
      "                                                                 \n",
      "=================================================================\n",
      "Total params: 9,689,301\n",
      "Trainable params: 9,689,301\n",
      "Non-trainable params: 0\n",
      "_________________________________________________________________\n"
     ]
    }
   ],
   "source": [
    "model.summary()"
   ]
  },
  {
   "cell_type": "code",
   "execution_count": 77,
   "id": "4c02f4e5",
   "metadata": {
    "scrolled": false
   },
   "outputs": [
    {
     "name": "stdout",
     "output_type": "stream",
     "text": [
      "Epoch 1/21\n",
      "1/1 [==============================] - 1s 928ms/step - loss: 1.4701 - accuracy: 0.6562\n",
      "Epoch 2/21\n",
      "1/1 [==============================] - 1s 920ms/step - loss: 1.3749 - accuracy: 0.4688\n",
      "Epoch 3/21\n",
      "1/1 [==============================] - 1s 904ms/step - loss: 1.0001 - accuracy: 0.7500\n",
      "Epoch 4/21\n",
      "1/1 [==============================] - 1s 914ms/step - loss: 0.8768 - accuracy: 0.6562\n",
      "Epoch 5/21\n",
      "1/1 [==============================] - 1s 869ms/step - loss: 0.5461 - accuracy: 0.9375\n",
      "Epoch 6/21\n",
      "1/1 [==============================] - 1s 878ms/step - loss: 0.5021 - accuracy: 0.8125\n",
      "Epoch 7/21\n",
      "1/1 [==============================] - 1s 959ms/step - loss: 0.2636 - accuracy: 1.0000\n",
      "Epoch 8/21\n",
      "1/1 [==============================] - 1s 914ms/step - loss: 0.2047 - accuracy: 0.9688\n",
      "Epoch 9/21\n",
      "1/1 [==============================] - 1s 913ms/step - loss: 0.1943 - accuracy: 0.9062\n",
      "Epoch 10/21\n",
      "1/1 [==============================] - 1s 881ms/step - loss: 0.1752 - accuracy: 0.9688\n",
      "Epoch 11/21\n",
      "1/1 [==============================] - 1s 828ms/step - loss: 0.0984 - accuracy: 0.9688\n",
      "Epoch 12/21\n",
      "1/1 [==============================] - 1s 878ms/step - loss: 0.1143 - accuracy: 0.9688\n",
      "Epoch 13/21\n",
      "1/1 [==============================] - 1s 897ms/step - loss: 0.0527 - accuracy: 1.0000\n",
      "Epoch 14/21\n",
      "1/1 [==============================] - 1s 921ms/step - loss: 0.0460 - accuracy: 0.9688\n",
      "Epoch 15/21\n",
      "1/1 [==============================] - 1s 925ms/step - loss: 0.0107 - accuracy: 1.0000\n",
      "Epoch 16/21\n",
      "1/1 [==============================] - 1s 898ms/step - loss: 0.0124 - accuracy: 1.0000\n",
      "Epoch 17/21\n",
      "1/1 [==============================] - 1s 945ms/step - loss: 0.0290 - accuracy: 1.0000\n",
      "Epoch 18/21\n",
      "1/1 [==============================] - 1s 919ms/step - loss: 0.0041 - accuracy: 1.0000\n",
      "Epoch 19/21\n",
      "1/1 [==============================] - 1s 931ms/step - loss: 0.0010 - accuracy: 1.0000\n",
      "Epoch 20/21\n",
      "1/1 [==============================] - 1s 909ms/step - loss: 8.1402e-04 - accuracy: 1.0000\n",
      "Epoch 21/21\n",
      "1/1 [==============================] - 1s 907ms/step - loss: 8.2506e-04 - accuracy: 1.0000\n"
     ]
    },
    {
     "data": {
      "text/plain": [
       "<keras.callbacks.History at 0x27b811bb280>"
      ]
     },
     "execution_count": 77,
     "metadata": {},
     "output_type": "execute_result"
    }
   ],
   "source": [
    "history = model.fit(x_train, y_train, epochs=21)"
   ]
  },
  {
   "cell_type": "code",
   "execution_count": 79,
   "id": "ea6d5b56",
   "metadata": {},
   "outputs": [
    {
     "name": "stdout",
     "output_type": "stream",
     "text": [
      "INFO:tensorflow:Assets written to: my_model.22jesus\\assets\n"
     ]
    }
   ],
   "source": [
    "history = model.save('keras_model.h5')"
   ]
  },
  {
   "cell_type": "code",
   "execution_count": null,
   "id": "9abfcee8",
   "metadata": {},
   "outputs": [],
   "source": [
    "results = model.evaluate(y_test, verbose=0)\n",
    "\n",
    "print(\"    Test Loss: {:.5f}\".format(results[0]))\n",
    "print(\"Test Accuracy: {:.2f}%\".format(results[1] * 100))"
   ]
  },
  {
   "cell_type": "code",
   "execution_count": null,
   "id": "fcb799be",
   "metadata": {},
   "outputs": [],
   "source": [
    "accuracy = history.history['accuracy']\n",
    "val_accuracy = history.history['val_accuracy']\n",
    "\n",
    "loss = history.history['loss']\n",
    "val_loss = history.history['val_loss']\n",
    "\n",
    "epochs = range(len(accuracy))\n",
    "plt.plot(epochs, accuracy, 'b', label='Training accuracy')\n",
    "plt.plot(epochs, val_accuracy, 'r', label='Validation accuracy')\n",
    "\n",
    "plt.title('Training and validation accuracy')\n",
    "plt.legend()\n",
    "plt.figure()\n",
    "plt.plot(epochs, loss, 'b', label='Training loss')\n",
    "plt.plot(epochs, val_loss, 'r', label='Validation loss')\n",
    "\n",
    "plt.title('Training and validation loss')\n",
    "plt.legend()\n",
    "plt.show()"
   ]
  }
 ],
 "metadata": {
  "kernelspec": {
   "display_name": "Python 3",
   "language": "python",
   "name": "python3"
  },
  "language_info": {
   "codemirror_mode": {
    "name": "ipython",
    "version": 3
   },
   "file_extension": ".py",
   "mimetype": "text/x-python",
   "name": "python",
   "nbconvert_exporter": "python",
   "pygments_lexer": "ipython3",
   "version": "3.8.10"
  }
 },
 "nbformat": 4,
 "nbformat_minor": 5
}
